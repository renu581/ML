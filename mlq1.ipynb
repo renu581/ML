{
 "cells": [
  {
   "cell_type": "code",
   "execution_count": 2,
   "id": "3853c08e-b835-4638-a3f5-50ba4b6a725c",
   "metadata": {},
   "outputs": [
    {
     "name": "stdout",
     "output_type": "stream",
     "text": [
      "   TransactionID TransactionDate  UserID  ProductID  Quantity\n",
      "0              1      2010-08-21     7.0          2         1\n",
      "1              2      2011-05-26     3.0          4         1\n",
      "2              3      2011-06-16     3.0          3         1\n",
      "3              4      2012-08-26     1.0          2         3\n",
      "4              5      2013-06-06     2.0          4         1\n",
      "5              6      2013-12-23     2.0          5         6\n",
      "6              7      2013-12-30     3.0          4         1\n",
      "7              8      2014-04-24     NaN          2         3\n",
      "8              9      2015-04-24     7.0          4         3\n",
      "9             10      2016-05-08     3.0          4         4\n"
     ]
    }
   ],
   "source": [
    "import pandas as pd\n",
    "df=pd.read_csv('/home/user/Downloads/transactions.csv')\n",
    "print(df)"
   ]
  },
  {
   "cell_type": "code",
   "execution_count": 4,
   "id": "55203554-4170-4a93-8708-2f13ce66f755",
   "metadata": {},
   "outputs": [
    {
     "name": "stdout",
     "output_type": "stream",
     "text": [
      "       TransactionID    UserID  ProductID   Quantity\n",
      "count       10.00000  9.000000  10.000000  10.000000\n",
      "mean         5.50000  3.444444   3.400000   2.400000\n",
      "std          3.02765  2.127858   1.074968   1.712698\n",
      "min          1.00000  1.000000   2.000000   1.000000\n",
      "25%          3.25000  2.000000   2.250000   1.000000\n",
      "50%          5.50000  3.000000   4.000000   2.000000\n",
      "75%          7.75000  3.000000   4.000000   3.000000\n",
      "max         10.00000  7.000000   5.000000   6.000000\n"
     ]
    }
   ],
   "source": [
    "#1. Print Summary of transaction data set\n",
    "print(df.describe())"
   ]
  },
  {
   "cell_type": "code",
   "execution_count": 11,
   "id": "7140329a-68da-4ac1-9e54-b340c59e486e",
   "metadata": {},
   "outputs": [
    {
     "name": "stdout",
     "output_type": "stream",
     "text": [
      "5\n"
     ]
    }
   ],
   "source": [
    "#2. Print Numbers of Attributes\n",
    "df=df.count()\n",
    "print(df)"
   ]
  },
  {
   "cell_type": "code",
   "execution_count": 20,
   "id": "eecc8779-734c-4bca-a23b-4c0669225c9d",
   "metadata": {},
   "outputs": [
    {
     "name": "stdout",
     "output_type": "stream",
     "text": [
      "10\n"
     ]
    }
   ],
   "source": [
    "#3. Print Numbers of Record\n",
    "a=df.shape[0]\n",
    "print(a)"
   ]
  },
  {
   "cell_type": "code",
   "execution_count": 23,
   "id": "a0774ad4-7472-436a-b69d-9129885e4d5b",
   "metadata": {},
   "outputs": [
    {
     "name": "stdout",
     "output_type": "stream",
     "text": [
      "[0, 1, 2, 3, 4, 5, 6, 7, 8, 9]\n"
     ]
    }
   ],
   "source": [
    "#4.GET ROW NAMES\n",
    "d=df.index\n",
    "print(d.tolist())"
   ]
  },
  {
   "cell_type": "code",
   "execution_count": 26,
   "id": "853fd12b-14cf-4f5b-bab9-00be930308c2",
   "metadata": {},
   "outputs": [
    {
     "name": "stdout",
     "output_type": "stream",
     "text": [
      "['TransactionID', 'TransactionDate', 'UserID', 'ProductID', 'Quantity']\n"
     ]
    }
   ],
   "source": [
    "#5. Get the column names\n",
    "d=df.columns\n",
    "print(d.tolist())"
   ]
  },
  {
   "cell_type": "code",
   "execution_count": 27,
   "id": "d924fe00-3da8-44a2-8ea7-4a1f2c752f7b",
   "metadata": {},
   "outputs": [
    {
     "name": "stdout",
     "output_type": "stream",
     "text": [
      "   TransactionID TransactionDate  UserID  ProductID  Quantity\n",
      "0              1      2010-08-21     7.0          2         1\n",
      "1              2      2011-05-26     3.0          4         1\n",
      "2              3      2011-06-16     3.0          3         1\n",
      "3              4      2012-08-26     1.0          2         3\n",
      "4              5      2013-06-06     2.0          4         1\n",
      "5              6      2013-12-23     2.0          5         6\n",
      "6              7      2013-12-30     3.0          4         1\n",
      "7              8      2014-04-24     NaN          2         3\n",
      "8              9      2015-04-24     7.0          4         3\n",
      "9             10      2016-05-08     3.0          4         4\n"
     ]
    }
   ],
   "source": [
    "#6. View top 10 Records\n",
    "print(df.head(10))"
   ]
  },
  {
   "cell_type": "code",
   "execution_count": 28,
   "id": "1dc30bf9-5750-413a-a7cf-e12390f8d14d",
   "metadata": {},
   "outputs": [
    {
     "name": "stdout",
     "output_type": "stream",
     "text": [
      "   TransactionID TransactionDate  UserID  ProductID  Quant\n",
      "0              1      2010-08-21     7.0          2      1\n",
      "1              2      2011-05-26     3.0          4      1\n",
      "2              3      2011-06-16     3.0          3      1\n",
      "3              4      2012-08-26     1.0          2      3\n",
      "4              5      2013-06-06     2.0          4      1\n",
      "5              6      2013-12-23     2.0          5      6\n",
      "6              7      2013-12-30     3.0          4      1\n",
      "7              8      2014-04-24     NaN          2      3\n",
      "8              9      2015-04-24     7.0          4      3\n",
      "9             10      2016-05-08     3.0          4      4\n"
     ]
    }
   ],
   "source": [
    "#7.Change the name of column “ Quantity” to “Quant”\n",
    "df.rename(columns={'Quantity': 'Quant'},\n",
    "inplace=True) \n",
    "print(df)"
   ]
  },
  {
   "cell_type": "code",
   "execution_count": 29,
   "id": "78ec501c-cec1-4759-849f-9a817fa5b06b",
   "metadata": {},
   "outputs": [
    {
     "name": "stdout",
     "output_type": "stream",
     "text": [
      "   TransactionID TransactionDate   id  pid  Quant\n",
      "0              1      2010-08-21  7.0    2      1\n",
      "1              2      2011-05-26  3.0    4      1\n",
      "2              3      2011-06-16  3.0    3      1\n",
      "3              4      2012-08-26  1.0    2      3\n",
      "4              5      2013-06-06  2.0    4      1\n",
      "5              6      2013-12-23  2.0    5      6\n",
      "6              7      2013-12-30  3.0    4      1\n",
      "7              8      2014-04-24  NaN    2      3\n",
      "8              9      2015-04-24  7.0    4      3\n",
      "9             10      2016-05-08  3.0    4      4\n"
     ]
    }
   ],
   "source": [
    "#8.8.Change the name of columns ProductID and UserID\n",
    "df.rename(columns={'ProductID': 'pid', 'UserID': 'id'},\n",
    "inplace=True) \n",
    "print(df)"
   ]
  },
  {
   "cell_type": "code",
   "execution_count": 6,
   "id": "af899f78-ffec-4f04-a7c7-627908479acd",
   "metadata": {},
   "outputs": [
    {
     "name": "stdout",
     "output_type": "stream",
     "text": [
      "   TransactionID TransactionDate  UserID  ProductID  Quantity\n",
      "0              1      2010-08-21     7.0          2         1\n",
      "1              2      2011-05-26     3.0          4         1\n",
      "2              3      2011-06-16     3.0          3         1\n",
      "3              4      2012-08-26     1.0          2         3\n",
      "4              5      2013-06-06     2.0          4         1\n",
      "5              6      2013-12-23     2.0          5         6\n",
      "6              7      2013-12-30     3.0          4         1\n",
      "7              8      2014-04-24     NaN          2         3\n",
      "8              9      2015-04-24     7.0          4         3\n",
      "9             10      2016-05-08     3.0          4         4\n"
     ]
    }
   ],
   "source": [
    "#9. Order the rows of transactions by TransactionId\n",
    "#descending, if ascending then ascending=True\n",
    "df_sorted = df.sort_values(by=[\"TransactionDate\"],\n",
    "ascending=[True])\n",
    "print(df_sorted)"
   ]
  },
  {
   "cell_type": "code",
   "execution_count": 7,
   "id": "e53d6f0c-1833-41a5-a0b7-a7c611c77f08",
   "metadata": {},
   "outputs": [
    {
     "name": "stdout",
     "output_type": "stream",
     "text": [
      "   TransactionID TransactionDate  UserID  ProductID  Quantity\n",
      "6              7      2013-12-30     3.0          4         1\n",
      "4              5      2013-06-06     2.0          4         1\n",
      "2              3      2011-06-16     3.0          3         1\n",
      "1              2      2011-05-26     3.0          4         1\n",
      "0              1      2010-08-21     7.0          2         1\n"
     ]
    }
   ],
   "source": [
    "#10. Order the rows of transactions by Quantity\n",
    "#ascending, TransactionDate descending\n",
    "df_sorted = df.sort_values(by=[\"Quantity\", \"TransactionDate\"],\n",
    "ascending=[True, False])\n",
    "print(df_sorted.head())"
   ]
  },
  {
   "cell_type": "code",
   "execution_count": 8,
   "id": "3f6c7e84-b5d1-4660-8954-05fe0af609a0",
   "metadata": {},
   "outputs": [
    {
     "name": "stdout",
     "output_type": "stream",
     "text": [
      "   ProductID  Quantity TransactionDate  TransactionID  UserID\n",
      "0          2         1      2010-08-21              1     7.0\n",
      "1          4         1      2011-05-26              2     3.0\n",
      "2          3         1      2011-06-16              3     3.0\n",
      "3          2         3      2012-08-26              4     1.0\n",
      "4          4         1      2013-06-06              5     2.0\n",
      "5          5         6      2013-12-23              6     2.0\n",
      "6          4         1      2013-12-30              7     3.0\n",
      "7          2         3      2014-04-24              8     NaN\n",
      "8          4         3      2015-04-24              9     7.0\n",
      "9          4         4      2016-05-08             10     3.0\n"
     ]
    }
   ],
   "source": [
    "#Set the column order of Transactions as ProductID,\n",
    "#Quantity, TransactionDate, TransactionID, UserID\n",
    "df = df[['ProductID', 'Quantity', 'TransactionDate', 'TransactionID', 'UserID']]\n",
    "\n",
    "print(df)\n"
   ]
  },
  {
   "cell_type": "code",
   "execution_count": 9,
   "id": "3bfcedd0-53e7-484e-8c49-967ace5fdeea",
   "metadata": {},
   "outputs": [
    {
     "name": "stdout",
     "output_type": "stream",
     "text": [
      "   UserID  ProductID  Quantity TransactionDate  TransactionID\n",
      "0     7.0          2         1      2010-08-21              1\n",
      "1     3.0          4         1      2011-05-26              2\n",
      "2     3.0          3         1      2011-06-16              3\n",
      "3     1.0          2         3      2012-08-26              4\n",
      "4     2.0          4         1      2013-06-06              5\n",
      "5     2.0          5         6      2013-12-23              6\n",
      "6     3.0          4         1      2013-12-30              7\n",
      "7     NaN          2         3      2014-04-24              8\n",
      "8     7.0          4         3      2015-04-24              9\n",
      "9     3.0          4         4      2016-05-08             10\n"
     ]
    }
   ],
   "source": [
    "#12. Make UserID the first column of transactions\n",
    "df = df[['UserID','ProductID', 'Quantity', 'TransactionDate', 'TransactionID']]\n",
    "\n",
    "print(df)\n"
   ]
  },
  {
   "cell_type": "code",
   "execution_count": 10,
   "id": "38ac9c03-8861-416d-9665-86785d07199d",
   "metadata": {},
   "outputs": [
    {
     "name": "stdout",
     "output_type": "stream",
     "text": [
      "[2 4 3 2 4 5 4 2 4 4]\n"
     ]
    }
   ],
   "source": [
    "#13.Extracting arrays from a Data Frame. Get the 2ndcolumn\n",
    "second_column_array = df.iloc[:, 1].values  # Using .iloc for column selection\n",
    "\n",
    "print(second_column_array)"
   ]
  },
  {
   "cell_type": "code",
   "execution_count": 11,
   "id": "7951f2a0-34cd-4cc0-b074-0df259e4c56e",
   "metadata": {},
   "outputs": [
    {
     "name": "stdout",
     "output_type": "stream",
     "text": [
      "[2 4 3 2 4 5 4 2 4 4]\n"
     ]
    }
   ],
   "source": [
    "#14. Get the ProductID Array\n",
    "second_column_array = df.iloc[:, 1].values  # Using .iloc for column selection\n",
    "\n",
    "print(second_column_array)"
   ]
  },
  {
   "cell_type": "code",
   "execution_count": 12,
   "id": "973b4428-a5a0-46aa-8db3-be307a0323a0",
   "metadata": {},
   "outputs": [
    {
     "name": "stdout",
     "output_type": "stream",
     "text": [
      "[2 4 3 2 4 5 4 2 4 4]\n"
     ]
    }
   ],
   "source": [
    "#15. Get the ProductId array using the following variable\n",
    "#Data Mining Lab Manual AY:19-20 Page 5\n",
    "product_id_array = df['ProductID'].values  \n",
    "\n",
    "print(product_id_array)"
   ]
  },
  {
   "cell_type": "code",
   "execution_count": null,
   "id": "e0bed6ef-258f-4baa-bf73-d427df3155f0",
   "metadata": {},
   "outputs": [],
   "source": [
    "#16.16.Row subsetting, subset rows 1,3 and 6\n",
    "columns_to_select = ['TransactionID', 'TransactionDate']\n",
    "subset_columns = df[columns_to_select]\n",
    "print(subset_columns)"
   ]
  },
  {
   "cell_type": "code",
   "execution_count": 13,
   "id": "f9cff52b-3656-49cb-9637-34462158cd1a",
   "metadata": {},
   "outputs": [
    {
     "name": "stdout",
     "output_type": "stream",
     "text": [
      "   UserID  ProductID  Quantity TransactionDate  TransactionID\n",
      "0     7.0          2         1      2010-08-21              1\n",
      "1     3.0          4         1      2011-05-26              2\n",
      "2     3.0          3         1      2011-06-16              3\n",
      "3     1.0          2         3      2012-08-26              4\n",
      "4     2.0          4         1      2013-06-06              5\n",
      "5     2.0          5         6      2013-12-23              6\n",
      "6     3.0          4         1      2013-12-30              7\n",
      "7     NaN          2         3      2014-04-24              8\n",
      "8     7.0          4         3      2015-04-24              9\n",
      "9     3.0          4         4      2016-05-08             10\n"
     ]
    }
   ],
   "source": [
    "print(df)"
   ]
  },
  {
   "cell_type": "code",
   "execution_count": 15,
   "id": "021c803b-3149-4134-b6e6-57ebc7ace295",
   "metadata": {},
   "outputs": [
    {
     "name": "stdout",
     "output_type": "stream",
     "text": [
      "   UserID  ProductID  Quantity TransactionDate  TransactionID\n",
      "0     7.0          2         1      2010-08-21              1\n",
      "2     3.0          3         1      2011-06-16              3\n",
      "5     2.0          5         6      2013-12-23              6\n"
     ]
    }
   ],
   "source": [
    "#16.Row subsetting, subset rows 1,3 and 6\n",
    "subset_df = df.iloc[[0, 2, 5]]\n",
    "print(subset_df)"
   ]
  },
  {
   "cell_type": "code",
   "execution_count": 17,
   "id": "8b9a1a23-ea29-476b-bed4-37462e0cf8d5",
   "metadata": {},
   "outputs": [
    {
     "name": "stdout",
     "output_type": "stream",
     "text": [
      "   UserID  ProductID  Quantity TransactionDate  TransactionID\n",
      "1     3.0          4         1      2011-05-26              2\n",
      "3     1.0          2         3      2012-08-26              4\n",
      "4     2.0          4         1      2013-06-06              5\n",
      "6     3.0          4         1      2013-12-30              7\n",
      "7     NaN          2         3      2014-04-24              8\n",
      "8     7.0          4         3      2015-04-24              9\n",
      "9     3.0          4         4      2016-05-08             10\n"
     ]
    }
   ],
   "source": [
    "#17. subset rows excluding 1,3 and 6\n",
    "subset_df = df.drop(index=[0, 2, 5])\n",
    "\n",
    "print(subset_df)"
   ]
  },
  {
   "cell_type": "code",
   "execution_count": 18,
   "id": "cfc27c36-a712-44a6-b7a4-cce8a42b3f2d",
   "metadata": {},
   "outputs": [
    {
     "name": "stdout",
     "output_type": "stream",
     "text": [
      "   UserID  ProductID  Quantity TransactionDate  TransactionID\n",
      "0     7.0          2         1      2010-08-21              1\n",
      "1     3.0          4         1      2011-05-26              2\n",
      "2     3.0          3         1      2011-06-16              3\n"
     ]
    }
   ],
   "source": [
    "#18. Subset the first three rows\n",
    "subset_df = df.iloc[:3]\n",
    "print(subset_df)"
   ]
  },
  {
   "cell_type": "code",
   "execution_count": 22,
   "id": "b6ee9a7b-b78d-46cd-bf71-cd8026775f98",
   "metadata": {},
   "outputs": [
    {
     "name": "stdout",
     "output_type": "stream",
     "text": [
      "   UserID  ProductID  Quantity TransactionDate  TransactionID\n",
      "8     7.0          4         3      2015-04-24              9\n",
      "9     3.0          4         4      2016-05-08             10\n"
     ]
    }
   ],
   "source": [
    "#19. Subset the last 2 rows\n",
    "subset_df = df.iloc[-2:]\n",
    "print(subset_df)"
   ]
  },
  {
   "cell_type": "code",
   "execution_count": 24,
   "id": "b77d6d80-05a9-4e59-be40-31d66918d6a5",
   "metadata": {},
   "outputs": [
    {
     "name": "stdout",
     "output_type": "stream",
     "text": [
      "   UserID  ProductID  Quantity TransactionDate  TransactionID\n",
      "0     7.0          2         1      2010-08-21              1\n",
      "1     3.0          4         1      2011-05-26              2\n",
      "2     3.0          3         1      2011-06-16              3\n",
      "3     1.0          2         3      2012-08-26              4\n",
      "4     2.0          4         1      2013-06-06              5\n",
      "5     2.0          5         6      2013-12-23              6\n",
      "6     3.0          4         1      2013-12-30              7\n",
      "7     NaN          2         3      2014-04-24              8\n"
     ]
    }
   ],
   "source": [
    "#20. Subset rows excluding the last 2 rows\n",
    "subset_df = df.iloc[:-2]\n",
    "print(subset_df)"
   ]
  },
  {
   "cell_type": "code",
   "execution_count": 27,
   "id": "164b95fe-8fdc-4656-b4ee-d6937ab10b0d",
   "metadata": {},
   "outputs": [
    {
     "name": "stdout",
     "output_type": "stream",
     "text": [
      "   UserID  ProductID  Quantity TransactionDate  TransactionID\n",
      "3     1.0          2         3      2012-08-26              4\n",
      "4     2.0          4         1      2013-06-06              5\n",
      "5     2.0          5         6      2013-12-23              6\n",
      "6     3.0          4         1      2013-12-30              7\n",
      "7     NaN          2         3      2014-04-24              8\n",
      "8     7.0          4         3      2015-04-24              9\n",
      "9     3.0          4         4      2016-05-08             10\n"
     ]
    }
   ],
   "source": [
    "#21. Subset rows excluding the first 3 rows\n",
    "subset_df = df.iloc[3:]\n",
    "print(subset_df)"
   ]
  },
  {
   "cell_type": "code",
   "execution_count": 28,
   "id": "646526b6-4c38-42a3-abb6-e563e5cb2701",
   "metadata": {},
   "outputs": [
    {
     "name": "stdout",
     "output_type": "stream",
     "text": [
      "   UserID  ProductID  Quantity TransactionDate  TransactionID\n",
      "3     1.0          2         3      2012-08-26              4\n",
      "5     2.0          5         6      2013-12-23              6\n",
      "7     NaN          2         3      2014-04-24              8\n",
      "8     7.0          4         3      2015-04-24              9\n",
      "9     3.0          4         4      2016-05-08             10\n"
     ]
    }
   ],
   "source": [
    "#22. Subset rows where Quantity>1\n",
    "subset = df[df['Quantity'] >1]\n",
    "print(subset)"
   ]
  },
  {
   "cell_type": "code",
   "execution_count": 30,
   "id": "18a6fafd-5fdf-4110-98bb-485292391076",
   "metadata": {},
   "outputs": [
    {
     "name": "stdout",
     "output_type": "stream",
     "text": [
      "   UserID  ProductID  Quantity TransactionDate  TransactionID\n",
      "4     2.0          4         1      2013-06-06              5\n",
      "5     2.0          5         6      2013-12-23              6\n"
     ]
    }
   ],
   "source": [
    "#23. Subset rows where UserID=2\n",
    "subset = df[df['UserID'] ==2]\n",
    "print(subset)"
   ]
  },
  {
   "cell_type": "code",
   "execution_count": 34,
   "id": "fe9c6e8c-ceba-4ce1-ad31-d17feed7353e",
   "metadata": {},
   "outputs": [
    {
     "name": "stdout",
     "output_type": "stream",
     "text": [
      "   UserID  ProductID  Quantity TransactionDate  TransactionID\n",
      "4     2.0          4         1      2013-06-06              5\n",
      "5     2.0          5         6      2013-12-23              6\n"
     ]
    }
   ],
   "source": [
    "#24. Subset rows where Quantity>1 and UserID=2\n",
    "df[(df['Quantity'] > 1) & (df['UserID'] == 2)]\n",
    "print(subset)"
   ]
  },
  {
   "cell_type": "code",
   "execution_count": 35,
   "id": "32a75f1f-641b-4d8f-98af-08efb30fb5bd",
   "metadata": {},
   "outputs": [
    {
     "name": "stdout",
     "output_type": "stream",
     "text": [
      "   UserID  ProductID  Quantity TransactionDate  TransactionID\n",
      "0     7.0          2         1      2010-08-21              1\n",
      "1     3.0          4         1      2011-05-26              2\n",
      "2     3.0          3         1      2011-06-16              3\n",
      "3     1.0          2         3      2012-08-26              4\n",
      "5     2.0          5         6      2013-12-23              6\n",
      "6     3.0          4         1      2013-12-30              7\n",
      "8     7.0          4         3      2015-04-24              9\n",
      "9     3.0          4         4      2016-05-08             10\n"
     ]
    }
   ],
   "source": [
    "#25. Subset rows where Quantity + UserID is >3\n",
    "subset=df[(df['Quantity'] + df['UserID']) > 3]\n",
    "print(subset)"
   ]
  },
  {
   "cell_type": "code",
   "execution_count": 9,
   "id": "baf58e73-7109-47dc-b02b-b7fb9f1891f8",
   "metadata": {},
   "outputs": [
    {
     "name": "stdout",
     "output_type": "stream",
     "text": [
      "   TransactionID TransactionDate  UserID  ProductID  Quantity   Foo\n",
      "0              1      2010-08-21     7.0          2         1   9.0\n",
      "2              3      2011-06-16     3.0          3         1   6.0\n",
      "4              5      2013-06-06     2.0          4         1   6.0\n",
      "6              7      2013-12-30     3.0          4         1   7.0\n",
      "8              9      2015-04-24     7.0          4         3  11.0\n"
     ]
    }
   ],
   "source": [
    "# 26.Subset rows where an external array, foo, is True\n",
    "foo1 = [True, False, True, False,True, False, True, False,True, False] # Example of a boolean array\n",
    "subset_rows = df[foo1]\n",
    "print(subset_rows)"
   ]
  },
  {
   "cell_type": "code",
   "execution_count": 7,
   "id": "70c61477-716b-4d60-b2f4-adff7dfa2252",
   "metadata": {},
   "outputs": [
    {
     "name": "stdout",
     "output_type": "stream",
     "text": [
      "Subset where foo is True:\n",
      "    foo1\n",
      "0  True\n",
      "2  True\n",
      "4  True\n",
      "6  True\n",
      "8  True\n",
      "Subset where bar is positive:\n",
      "     foo1\n",
      "1  False\n",
      "2   True\n",
      "7  False\n",
      "9  False\n"
     ]
    }
   ],
   "source": [
    "#26. Subset rows where an external array, foo, is True\n",
    "import numpy as np\n",
    "\n",
    "foo = np.array([True, False, True, False,True, False, True, False,True, False])  # Boolean array\n",
    "bar = np.array([-1, 2, 3, -4,0,-2,-1,9,-7,1])  # Numeric array\n",
    "\n",
    "# Subset rows where foo is True\n",
    "subset_foo =df[foo]\n",
    "\n",
    "# Subset rows where bar is positive\n",
    "subset_bar = df[bar > 0]\n",
    "\n",
    "print(\"Subset where foo is True:\\n\", subset_foo)\n",
    "print(\"Subset where bar is positive:\\n\", subset_bar)"
   ]
  },
  {
   "cell_type": "code",
   "execution_count": 8,
   "id": "ecb53eec-f9ff-4843-8d15-37655bb2b352",
   "metadata": {},
   "outputs": [
    {
     "name": "stdout",
     "output_type": "stream",
     "text": [
      "Subset where foo is True:\n",
      "    foo1\n",
      "0  True\n",
      "2  True\n",
      "4  True\n",
      "6  True\n",
      "8  True\n",
      "Subset where bar is positive:\n",
      "     foo1\n",
      "1  False\n",
      "2   True\n",
      "7  False\n",
      "9  False\n"
     ]
    }
   ],
   "source": [
    "#27. Subset rows where an external array, bar, is positive\n",
    "# Subset rows where foo is True\n",
    "subset_foo = df[foo]\n",
    "\n",
    "# Subset rows where bar is positive\n",
    "subset_bar = df[bar > 0]\n",
    "\n",
    "print(\"Subset where foo is True:\\n\", subset_foo)\n",
    "print(\"Subset where bar is positive:\\n\", subset_bar)"
   ]
  },
  {
   "cell_type": "code",
   "execution_count": 10,
   "id": "7f582a32-5e82-492f-98d4-203cff8e577f",
   "metadata": {},
   "outputs": [
    {
     "name": "stdout",
     "output_type": "stream",
     "text": [
      "Subset where foo is True OR bar is negative:\n",
      "     foo1\n",
      "0   True\n",
      "2   True\n",
      "3  False\n",
      "4   True\n",
      "5  False\n",
      "6   True\n",
      "8   True\n"
     ]
    }
   ],
   "source": [
    "#28. Subset rows where foo is TRUE or bar is negative\n",
    "\n",
    "subset_foo_or_bar_negative = df[foo | (bar < 0)]\n",
    "print(\"Subset where foo is True OR bar is negative:\\n\", subset_foo_or_bar_negative)\n"
   ]
  },
  {
   "cell_type": "code",
   "execution_count": 12,
   "id": "07470cae-c268-4b86-bd67-d27fe9186ae1",
   "metadata": {},
   "outputs": [
    {
     "name": "stdout",
     "output_type": "stream",
     "text": [
      "Subset where foo is NOT True AND bar is NOT negative:\n",
      "     foo1\n",
      "1  False\n",
      "7  False\n",
      "9  False\n"
     ]
    }
   ],
   "source": [
    "#29. Subset the rows where foo is not TRUE and bar is notnegative\n",
    "subset_not_foo_and_not_bar_negative = df[~foo & (bar >= 0)]\n",
    "print(\"Subset where foo is NOT True AND bar is NOT negative:\\n\", subset_not_foo_and_not_bar_negative)\n"
   ]
  },
  {
   "cell_type": "code",
   "execution_count": 36,
   "id": "bd51a397-8e2b-4d82-a286-116c3edc491e",
   "metadata": {},
   "outputs": [
    {
     "name": "stdout",
     "output_type": "stream",
     "text": [
      "   ProductID TransactionDate\n",
      "0          2      2010-08-21\n",
      "1          4      2011-05-26\n",
      "2          3      2011-06-16\n",
      "3          2      2012-08-26\n",
      "4          4      2013-06-06\n",
      "5          5      2013-12-23\n",
      "6          4      2013-12-30\n",
      "7          2      2014-04-24\n",
      "8          4      2015-04-24\n",
      "9          4      2016-05-08\n"
     ]
    }
   ],
   "source": [
    "#30. Subset by columns 1 and 3\n",
    "subset = df.iloc[:, [1, 3]]\n",
    "print(subset)"
   ]
  },
  {
   "cell_type": "code",
   "execution_count": 37,
   "id": "2c4b32dd-fe9b-4a98-a0b0-f5e770b53e69",
   "metadata": {},
   "outputs": [
    {
     "name": "stdout",
     "output_type": "stream",
     "text": [
      "   TransactionID TransactionDate\n",
      "0              1      2010-08-21\n",
      "1              2      2011-05-26\n",
      "2              3      2011-06-16\n",
      "3              4      2012-08-26\n",
      "4              5      2013-06-06\n",
      "5              6      2013-12-23\n",
      "6              7      2013-12-30\n",
      "7              8      2014-04-24\n",
      "8              9      2015-04-24\n",
      "9             10      2016-05-08\n"
     ]
    }
   ],
   "source": [
    "#31. Subset by columns TransactionID and\n",
    "#TransactionDate\n",
    "columns_to_select = ['TransactionID', 'TransactionDate']\n",
    "subset_columns = df[columns_to_select]\n",
    "print(subset_columns)"
   ]
  },
  {
   "cell_type": "code",
   "execution_count": 14,
   "id": "f2ebe2c0-5740-4572-9834-7f2384019e49",
   "metadata": {},
   "outputs": [
    {
     "name": "stdout",
     "output_type": "stream",
     "text": [
      "   TransactionID TransactionDate\n",
      "3              4      2012-08-26\n",
      "4              5      2013-06-06\n",
      "5              6      2013-12-23\n",
      "7              8      2014-04-24\n",
      "8              9      2015-04-24\n",
      "9             10      2016-05-08\n"
     ]
    }
   ],
   "source": [
    "#32. Subset by columns TransactionID and\n",
    "#TransactionDate with logical operator\n",
    "subset = df[df['Quantity'] > 1][['TransactionID',\n",
    "'TransactionDate']]\n",
    "print(subset)"
   ]
  },
  {
   "cell_type": "code",
   "execution_count": 10,
   "id": "d0757def-c429-43ce-82e6-1e0051b42d10",
   "metadata": {},
   "outputs": [
    {
     "name": "stdout",
     "output_type": "stream",
     "text": [
      "   TransactionID TransactionDate\n",
      "0              1      2010-08-21\n",
      "1              2      2011-05-26\n",
      "2              3      2011-06-16\n",
      "3              4      2012-08-26\n",
      "4              5      2013-06-06\n",
      "5              6      2013-12-23\n",
      "6              7      2013-12-30\n",
      "7              8      2014-04-24\n",
      "8              9      2015-04-24\n",
      "9             10      2016-05-08\n"
     ]
    }
   ],
   "source": [
    "#33. Subset columns by a variable list of column names\n",
    "columns_to_select = ['TransactionID', 'TransactionDate']\n",
    "subset_columns = df[columns_to_select]\n",
    "print(subset_columns)"
   ]
  },
  {
   "cell_type": "code",
   "execution_count": 11,
   "id": "8e1f60bc-1c73-4eb1-bc35-5c5345989923",
   "metadata": {},
   "outputs": [
    {
     "name": "stdout",
     "output_type": "stream",
     "text": [
      "   TransactionID TransactionDate  UserID   Foo\n",
      "0              1      2010-08-21     7.0   9.0\n",
      "1              2      2011-05-26     3.0   7.0\n",
      "2              3      2011-06-16     3.0   6.0\n",
      "3              4      2012-08-26     1.0   3.0\n",
      "4              5      2013-06-06     2.0   6.0\n",
      "5              6      2013-12-23     2.0   7.0\n",
      "6              7      2013-12-30     3.0   7.0\n",
      "7              8      2014-04-24     NaN   NaN\n",
      "8              9      2015-04-24     7.0  11.0\n",
      "9             10      2016-05-08     3.0   7.0\n"
     ]
    }
   ],
   "source": [
    "#34. Subset columns excluding a variable list of columnnames\n",
    "columns_to_exclude = ['Quantity', 'ProductID']\n",
    "subset_columns_excluded = df[[col for col in df.columns if col not\n",
    "in columns_to_exclude]]\n",
    "print(subset_columns_excluded)"
   ]
  },
  {
   "cell_type": "code",
   "execution_count": 13,
   "id": "3739b118-7d4d-4260-949f-1d8b7bbcceaf",
   "metadata": {},
   "outputs": [
    {
     "name": "stdout",
     "output_type": "stream",
     "text": [
      "   TransactionID TransactionDate  UserID  ProductID  Quantity   Foo\n",
      "0              1      2010-08-21     7.0          2         1   9.0\n",
      "1              2      2011-05-26     3.0          4         1   7.0\n",
      "2              3      2011-06-16     3.0          3         1   6.0\n",
      "3              4      2012-08-26     1.0          2         3   3.0\n",
      "4              5      2013-06-06     2.0          4        10   6.0\n",
      "5              6      2013-12-23     2.0          5        10   7.0\n",
      "6              7      2013-12-30     3.0          4         1   7.0\n",
      "7              8      2014-04-24     NaN          2         3   NaN\n",
      "8              9      2015-04-24     7.0          4         3  11.0\n",
      "9             10      2016-05-08     3.0          4         4   7.0\n"
     ]
    }
   ],
   "source": [
    "#35.insertind and updating\n",
    "df.loc[df['UserID'] == 2, 'Quantity'] = 10\n",
    "print(df)"
   ]
  },
  {
   "cell_type": "code",
   "execution_count": 6,
   "id": "b40b4f7d-6373-4c2a-8cc4-7d2f76fff438",
   "metadata": {},
   "outputs": [
    {
     "name": "stdout",
     "output_type": "stream",
     "text": [
      "TransactionID               int64\n",
      "TransactionDate    datetime64[ns]\n",
      "UserID                    float64\n",
      "ProductID                   int64\n",
      "Quantity                    int64\n",
      "Foo                       float64\n",
      "dtype: object\n"
     ]
    }
   ],
   "source": [
    "#36. Convert the TransactionDate column to type Date\n",
    "df['TransactionDate'] = pd.to_datetime(df['TransactionDate'])\n",
    "print(df.dtypes)"
   ]
  },
  {
   "cell_type": "code",
   "execution_count": 3,
   "id": "114916df-d655-4c54-8295-a9fab5fb5148",
   "metadata": {},
   "outputs": [
    {
     "name": "stdout",
     "output_type": "stream",
     "text": [
      "   TransactionID TransactionDate  UserID  ProductID  Quantity   Foo\n",
      "0              1      2010-08-21     7.0          2         1   9.0\n",
      "1              2      2011-05-26     3.0          4         1   7.0\n",
      "2              3      2011-06-16     3.0          3         1   6.0\n",
      "3              4      2012-08-26     1.0          2         3   3.0\n",
      "4              5      2013-06-06     2.0          4         1   6.0\n",
      "5              6      2013-12-23     2.0          5         6   7.0\n",
      "6              7      2013-12-30     3.0          4         1   7.0\n",
      "7              8      2014-04-24     NaN          2         3   NaN\n",
      "8              9      2015-04-24     7.0          4         3  11.0\n",
      "9             10      2016-05-08     3.0          4         4   7.0\n"
     ]
    }
   ],
   "source": [
    "#37. Insert a new column, Foo=UserID+ProductID\n",
    "df['Foo'] = df['UserID'] + df['ProductID']\n",
    "print(df)"
   ]
  },
  {
   "cell_type": "code",
   "execution_count": null,
   "id": "b5c82c31-eff1-47c5-a23f-016c6ab0f6b1",
   "metadata": {},
   "outputs": [],
   "source": []
  },
  {
   "cell_type": "code",
   "execution_count": null,
   "id": "192a9460-8047-4e84-ac47-c92a5f4679b2",
   "metadata": {},
   "outputs": [],
   "source": []
  }
 ],
 "metadata": {
  "kernelspec": {
   "display_name": "Python 3 (ipykernel)",
   "language": "python",
   "name": "python3"
  },
  "language_info": {
   "codemirror_mode": {
    "name": "ipython",
    "version": 3
   },
   "file_extension": ".py",
   "mimetype": "text/x-python",
   "name": "python",
   "nbconvert_exporter": "python",
   "pygments_lexer": "ipython3",
   "version": "3.11.7"
  }
 },
 "nbformat": 4,
 "nbformat_minor": 5
}
