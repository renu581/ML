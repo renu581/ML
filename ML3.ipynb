{
 "cells": [
  {
   "cell_type": "code",
   "execution_count": 3,
   "id": "9db5ca78-df16-40ba-8a9f-7a3825a2e8f3",
   "metadata": {},
   "outputs": [
    {
     "name": "stdout",
     "output_type": "stream",
     "text": [
      "        TV  Sales\n",
      "0    230.1   22.1\n",
      "1     44.5   10.4\n",
      "2     17.2    9.3\n",
      "3    151.5   18.5\n",
      "4    180.8   12.9\n",
      "..     ...    ...\n",
      "195   38.2    7.6\n",
      "196   94.2    9.7\n",
      "197  177.0   12.8\n",
      "198  283.6   25.5\n",
      "199  232.1   13.4\n",
      "\n",
      "[200 rows x 2 columns]\n"
     ]
    }
   ],
   "source": [
    "import pandas as pd\n",
    "df=pd.read_csv(\"/home/user/Downloads/tvmarketing.csv\")\n",
    "print(df)"
   ]
  },
  {
   "cell_type": "code",
   "execution_count": 4,
   "id": "f93febd8-bbf3-4014-876a-cda7aee8fbaa",
   "metadata": {},
   "outputs": [
    {
     "name": "stdout",
     "output_type": "stream",
     "text": [
      "      TV  Sales\n",
      "0  230.1   22.1\n",
      "1   44.5   10.4\n",
      "2   17.2    9.3\n",
      "3  151.5   18.5\n",
      "4  180.8   12.9\n"
     ]
    }
   ],
   "source": [
    "#1.Import dataset and display first 5 rows\n",
    "print(df.head())"
   ]
  },
  {
   "cell_type": "code",
   "execution_count": 5,
   "id": "4f6f8195-0696-4f63-904d-ae88dcd25a53",
   "metadata": {},
   "outputs": [
    {
     "data": {
      "text/plain": [
       "dtype('float64')"
      ]
     },
     "execution_count": 5,
     "metadata": {},
     "output_type": "execute_result"
    }
   ],
   "source": [
    "#2.Check column data types\n",
    "df['TV'].dtype\n",
    "df['Sales'].dtype"
   ]
  },
  {
   "cell_type": "code",
   "execution_count": 6,
   "id": "70fddf19-cd27-472d-8d93-245f1733191b",
   "metadata": {},
   "outputs": [
    {
     "name": "stdout",
     "output_type": "stream",
     "text": [
      "(200, 2)\n",
      "Number of rows : 200\n",
      "Number of columns: 2\n"
     ]
    }
   ],
   "source": [
    "#3.Check the shape of the Data Frame (rows, columns)\n",
    "print(df.shape)\n",
    "print(\"Number of rows :\", df.shape[0])\n",
    "print(\"Number of columns:\", df.shape[1])"
   ]
  },
  {
   "cell_type": "code",
   "execution_count": 7,
   "id": "059162b9-c237-4e15-a529-ad986c91188c",
   "metadata": {},
   "outputs": [
    {
     "name": "stdout",
     "output_type": "stream",
     "text": [
      "               TV       Sales\n",
      "count  200.000000  200.000000\n",
      "mean   147.042500   14.022500\n",
      "std     85.854236    5.217457\n",
      "min      0.700000    1.600000\n",
      "25%     74.375000   10.375000\n",
      "50%    149.750000   12.900000\n",
      "75%    218.825000   17.400000\n",
      "max    296.400000   27.000000\n"
     ]
    }
   ],
   "source": [
    "#4.Look at summary statistics\n",
    "print(df.describe());"
   ]
  },
  {
   "cell_type": "code",
   "execution_count": 15,
   "id": "0fed260d-20d7-4746-8c55-c323411c9dc1",
   "metadata": {},
   "outputs": [
    {
     "data": {
      "text/plain": [
       "<Axes: xlabel='TV', ylabel='Sales'>"
      ]
     },
     "execution_count": 15,
     "metadata": {},
     "output_type": "execute_result"
    },
    {
     "data": {
      "image/png": "[encoded data removed]",
      "text/plain": [
       "<Figure size 800x500 with 1 Axes>"
      ]
     },
     "metadata": {},
     "output_type": "display_data"
    }
   ],
   "source": [
    "#5.Visualize the relationship between the features and the dependent variable\n",
    "#using scatterplots\n",
    "import pandas as pd\n",
    "import matplotlib.pyplot as plt\n",
    "import seaborn as sns\n",
    "plt.figure(figsize=(8, 5))\n",
    "sns.scatterplot(x=df['TV'], y=df['Sales'])\n"
   ]
  },
  {
   "cell_type": "code",
   "execution_count": 8,
   "id": "cc23b8bd-d27d-415a-9278-9230682105a9",
   "metadata": {},
   "outputs": [
    {
     "name": "stdout",
     "output_type": "stream",
     "text": [
      "        TV  Sales\n",
      "0    230.1   22.1\n",
      "1     44.5   10.4\n",
      "2     17.2    9.3\n",
      "3    151.5   18.5\n",
      "4    180.8   12.9\n",
      "..     ...    ...\n",
      "195   38.2    7.6\n",
      "196   94.2    9.7\n",
      "197  177.0   12.8\n",
      "198  283.6   25.5\n",
      "199  232.1   13.4\n",
      "\n",
      "[200 rows x 2 columns]\n"
     ]
    }
   ],
   "source": [
    "#6.Prepare X (feature variables) and y (response variable)\n",
    "x=df[['TV']]\n",
    "y=df['Sales']\n",
    "print(df)"
   ]
  },
  {
   "cell_type": "code",
   "execution_count": 15,
   "id": "9dbee7c0-22ea-4428-9a82-44483474226b",
   "metadata": {},
   "outputs": [
    {
     "name": "stdout",
     "output_type": "stream",
     "text": [
      "Shape of X_train: (140, 1)\n",
      "Shape of y_train: (140,)\n"
     ]
    }
   ],
   "source": [
    "#7.Split Data into Training and Testing Sets (70%-Train 30%-Test) - X_train,\n",
    "#y_train, X_test, y_test\n",
    "\n",
    "from sklearn.model_selection import train_test_split\n",
    "\n",
    "X_train, X_test, y_train, y_test = train_test_split(x, y, test_size=0.3, random_state=42)\n",
    "\n",
    "print(\"Shape of X_train:\", X_train.shape)\n",
    "print(\"Shape of y_train:\", y_train.shape)  # Should match X_train's first dimension\n"
   ]
  },
  {
   "cell_type": "code",
   "execution_count": 44,
   "id": "798a434f-4473-47f5-b698-2067e0128ddd",
   "metadata": {},
   "outputs": [
    {
     "name": "stdout",
     "output_type": "stream",
     "text": [
      "Shape of X_train: (140, 1)\n",
      "Shape of X_test: (140,)\n",
      "Shape of y_train: (60, 1)\n",
      "Shape of y_test: (60,)\n"
     ]
    }
   ],
   "source": [
    "#8.Print the shape of train data and test data\n",
    "print(\"Shape of X_train:\", X_train.shape)\n",
    "print(\"Shape of X_test:\", X_test.shape)\n",
    "print(\"Shape of y_train:\", y_train.shape)\n",
    "print(\"Shape of y_test:\", y_test.shape)"
   ]
  },
  {
   "cell_type": "code",
   "execution_count": 16,
   "id": "8a592db4-cdae-423f-b2bc-4b8df3e7bcba",
   "metadata": {},
   "outputs": [
    {
     "name": "stdout",
     "output_type": "stream",
     "text": [
      "Theta values: [[7.23945983]\n",
      " [0.0464078 ]]\n"
     ]
    }
   ],
   "source": [
    "#9.Perform Linear Regression (on train data) without using any library and\n",
    "#print the coefficients values\n",
    "#import numpy as np \n",
    "#x_b=np.c_[np.ones((X_train.shape[0],1)),X_train]\n",
    "#theta=np.linalg.inv(x_b.T @ x_b) @ x_b.T @ y_train\n",
    "#print(theta)   \n",
    "import numpy as np\n",
    "\n",
    "# Convert to NumPy arrays\n",
    "X_train = np.array(X_train)\n",
    "y_train = np.array(y_train)\n",
    "\n",
    "# Ensure y_train is a column vector\n",
    "y_train = y_train.reshape(-1, 1)\n",
    "\n",
    "# Ensure both have the same number of rows\n",
    "assert X_train.shape[0] == y_train.shape[0], \"Mismatch in number of samples between X_train and y_train!\"\n",
    "\n",
    "# Add bias term (column of ones)\n",
    "x_b = np.c_[np.ones((X_train.shape[0], 1)), X_train]  # (n_samples, n_features+1)\n",
    "\n",
    "# Compute theta using the Normal Equation\n",
    "theta = np.linalg.inv(x_b.T @ x_b) @ x_b.T @ y_train\n",
    "\n",
    "# Print coefficients\n",
    "print(\"Theta values:\", theta)\n",
    "\n",
    "\n"
   ]
  },
  {
   "cell_type": "code",
   "execution_count": 19,
   "id": "b3c2c661-a79c-4dd6-a100-98133594eee4",
   "metadata": {},
   "outputs": [
    {
     "name": "stdout",
     "output_type": "stream",
     "text": [
      "Predicted values: [[14.81785392]\n",
      " [16.30754437]\n",
      " [20.83230507]\n",
      " [ 7.78243112]\n",
      " [17.46309864]\n",
      " [10.72468577]\n",
      " [17.30067133]\n",
      " [ 9.55984994]\n",
      " [17.56055502]\n",
      " [15.36546598]\n",
      " [ 8.7013056 ]\n",
      " [ 9.84757831]\n",
      " [18.12208943]\n",
      " [ 7.49006196]\n",
      " [13.71334823]\n",
      " [15.13806775]\n",
      " [ 7.57823679]\n",
      " [16.40964153]\n",
      " [10.73396733]\n",
      " [18.25667206]\n",
      " [17.89005042]\n",
      " [10.38590882]\n",
      " [ 9.00295631]\n",
      " [18.88317738]\n",
      " [10.44159818]\n",
      " [ 9.72227724]\n",
      " [17.14752559]\n",
      " [13.70406667]\n",
      " [11.28622018]\n",
      " [ 7.62928537]\n",
      " [16.5117387 ]\n",
      " [10.45087974]\n",
      " [16.46997167]\n",
      " [ 8.02375169]\n",
      " [20.26612989]\n",
      " [18.2937983 ]\n",
      " [ 9.48095667]\n",
      " [19.94127527]\n",
      " [12.67845424]\n",
      " [ 8.51567439]\n",
      " [12.62276488]\n",
      " [15.45364081]\n",
      " [ 9.2396361 ]\n",
      " [10.1306659 ]\n",
      " [17.63480751]\n",
      " [ 9.01223787]\n",
      " [10.51585066]\n",
      " [14.07532908]\n",
      " [12.09371593]\n",
      " [10.78037513]\n",
      " [10.86854996]\n",
      " [15.05453371]\n",
      " [ 7.64320771]\n",
      " [ 7.60144069]\n",
      " [10.78501591]\n",
      " [13.24462943]\n",
      " [10.64579251]\n",
      " [20.68380011]\n",
      " [ 8.14905275]\n",
      " [16.40964153]]\n"
     ]
    }
   ],
   "source": [
    "#10.Create the model using the calculated coefficients and make predictions on\n",
    "#the testing set\n",
    "# Compute predictions\n",
    "import numpy as np\n",
    "\n",
    "# Add bias term (column of ones) to match the format used during training\n",
    "X_test_b = np.c_[np.ones((X_test.shape[0], 1)), X_test]  # (n_samples, n_features+1)\n",
    "\n",
    "y_pred = X_test_b @ theta\n",
    "\n",
    "# Print predictions\n",
    "print(\"Predicted values:\", y_pred)\n"
   ]
  },
  {
   "cell_type": "code",
   "execution_count": 24,
   "id": "00092272-5b2b-4407-a38a-78a9b3791725",
   "metadata": {},
   "outputs": [
    {
     "name": "stdout",
     "output_type": "stream",
     "text": [
      "Intercept (bias): 7.1196384305929525\n",
      "Coefficient (slope): 0.04652973370544335\n",
      "Regression equation: y = 0.04652973370544335 * x + 7.1196384305929525\n"
     ]
    }
   ],
   "source": [
    "#11. Perform Linear Regression using library(sklearn)\n",
    "import numpy as np\n",
    "import matplotlib.pyplot as plt\n",
    "from sklearn.model_selection import train_test_split\n",
    "from sklearn.linear_model import LinearRegression\n",
    "#from sklearn.metrics import mean_squared_error, r2_score\n",
    "x=df[['TV']]\n",
    "y=df['Sales']\n",
    "# Split into training and testing sets (80% train, 20% test)\n",
    "X_train, X_test, y_train, y_test = train_test_split(x, y, test_size=0.2, random_state=42)\n",
    "# Create a Simple Linear Regression model\n",
    "model = LinearRegression()\n",
    "\n",
    "# Train (fit) the model on training data\n",
    "model.fit(X_train, y_train)\n",
    "\n",
    "# Print model parameters\n",
    "print(\"Intercept (bias):\", model.intercept_)\n",
    "print(\"Coefficient (slope):\", model.coef_[0])\n",
    "print(f\"Regression equation: y = {model.coef_[0]} * x + {model.intercept_}\")"
   ]
  },
  {
   "cell_type": "code",
   "execution_count": 25,
   "id": "394bbfa0-f7bb-4289-89b5-ea21e55edb84",
   "metadata": {},
   "outputs": [
    {
     "name": "stdout",
     "output_type": "stream",
     "text": [
      "Intercept (bias): 7.1196384305929525\n",
      "Coefficient (slope): 0.04652973370544335\n"
     ]
    }
   ],
   "source": [
    "#12. Print the intercept and coefficients\n",
    "print(\"Intercept (bias):\", model.intercept_)\n",
    "print(\"Coefficient (slope):\", model.coef_[0])"
   ]
  },
  {
   "cell_type": "code",
   "execution_count": 26,
   "id": "1d4194ae-542a-449c-9f96-fe5b30541943",
   "metadata": {},
   "outputs": [
    {
     "name": "stdout",
     "output_type": "stream",
     "text": [
      "predicted values: [14.71794394 16.2115484  20.74819743  7.66403631 17.37013877 10.61402143\n",
      " 17.2072847   9.44612512 17.46785121 15.2669948   8.58532504  9.73460946\n",
      " 18.03086098  7.37089899 13.61053628 15.03899911  7.45930549 16.31391381\n",
      " 10.62332738 18.16579721 17.79821232 10.27435438  8.88776831 18.79394862\n",
      " 10.33019006  9.60897918 17.05373658 13.60123034 11.17703121  7.51048819\n",
      " 16.41627922 10.339496   16.37440246  7.90599093 20.18053468 18.203021\n",
      "  9.36702457 19.85482655 12.57292322  8.39920611]\n"
     ]
    }
   ],
   "source": [
    "#13Make predictions on the testing set - y_pred\n",
    "y_pred = model.predict(X_test)\n",
    "print(\"predicted values:\",y_pred)"
   ]
  },
  {
   "cell_type": "code",
   "execution_count": 31,
   "id": "48a2ea77-e524-4037-a0d6-7b90c38b4282",
   "metadata": {},
   "outputs": [
    {
     "data": {
      "image/png": "[encoded data removed]",
      "text/plain": [
       "<Figure size 640x480 with 1 Axes>"
      ]
     },
     "metadata": {},
     "output_type": "display_data"
    }
   ],
   "source": [
    "#14\n",
    "# Plot training data points\n",
    "plt.scatter(X_train, y_train, color='blue', label=\"Training Data\")\n",
    "\n",
    "# Plot the regression line\n",
    "plt.plot(X_train, model.predict(X_train), color='green', linewidth=2, label=\"Regression Line\")\n",
    "\n",
    "# Labels and Title\n",
    "plt.xlabel(\"Feature (X)\")\n",
    "plt.ylabel(\"Target (y)\")\n",
    "plt.title(\"Train Data and Regression Model\")\n",
    "plt.legend()\n",
    "\n",
    "# Show the plot\n",
    "plt.show()\n",
    "\n"
   ]
  },
  {
   "cell_type": "code",
   "execution_count": 32,
   "id": "0e1f25ab-e7bc-4f7b-8e0a-9eea095d02b6",
   "metadata": {},
   "outputs": [
    {
     "data": {
      "image/png": "[encoded data removed]",
      "text/plain": [
       "<Figure size 640x480 with 1 Axes>"
      ]
     },
     "metadata": {},
     "output_type": "display_data"
    }
   ],
   "source": [
    "#15 15. Plot test data and the model\n",
    "# Plot test data points\n",
    "plt.scatter(X_test, y_test, color='red', label=\"Test Data\")\n",
    "\n",
    "# Plot the regression line using the test data\n",
    "plt.plot(X_test, model.predict(X_test), color='green', linewidth=2, label=\"Regression Line\")\n",
    "\n",
    "# Labels and Title\n",
    "plt.xlabel(\"Feature (X)\")\n",
    "plt.ylabel(\"Target (y)\")\n",
    "plt.title(\"Test Data and Regression Model\")\n",
    "plt.legend()\n",
    "\n",
    "# Show the plot\n",
    "plt.show()\n"
   ]
  },
  {
   "cell_type": "code",
   "execution_count": 34,
   "id": "32cdfc9e-6351-42fd-a231-5ecae2793734",
   "metadata": {},
   "outputs": [
    {
     "name": "stdout",
     "output_type": "stream",
     "text": [
      "Mean Squared Error: 10.204654118800956\n",
      "R-squared Score: 0.6766954295627077\n"
     ]
    }
   ],
   "source": [
    "#16. Print Mean Squared Error and R Squared Value\n",
    "from sklearn.metrics import mean_squared_error, r2_score\n",
    "# Calculate Mean Squared Error (MSE)\n",
    "mse = mean_squared_error(y_test, y_pred)\n",
    "print(\"Mean Squared Error:\", mse)\n",
    "\n",
    "# Calculate R-squared Score (R²)\n",
    "r2 = r2_score(y_test, y_pred)\n",
    "print(\"R-squared Score:\", r2)\n"
   ]
  },
  {
   "cell_type": "code",
   "execution_count": 37,
   "id": "6ed1351b-7228-45f5-ae25-edf48cb57789",
   "metadata": {},
   "outputs": [
    {
     "name": "stdout",
     "output_type": "stream",
     "text": [
      "R-SQUARED VALUE: 0.6766954295627077\n",
      "ADJANCENT R-SQUARED: 0.6681874145511999\n"
     ]
    }
   ],
   "source": [
    "#17Calculate and print R Squared and Adjusted R Squared values without anylibrary\n",
    "import numpy as np\n",
    "SS_res= np.sum((y_test - y_pred)**2)\n",
    "SS_tot=np.sum((y_test -np.mean(y_test))**2)\n",
    "R2=1-(SS_res/SS_tot)\n",
    "n=len(y_test)\n",
    "p=X_train.shape[1]\n",
    "R2_adj = 1 - ((1-R2)*(n-1)/(n-p-1))\n",
    "print(\"R-SQUARED VALUE:\",R2)\n",
    "print(\"ADJANCENT R-SQUARED:\",R2_adj)"
   ]
  },
  {
   "cell_type": "code",
   "execution_count": null,
   "id": "db8900cf-e917-4b5b-9fcb-84ef271f8c82",
   "metadata": {},
   "outputs": [],
   "source": []
  }
 ],
 "metadata": {
  "kernelspec": {
   "display_name": "Python 3 (ipykernel)",
   "language": "python",
   "name": "python3"
  },
  "language_info": {
   "codemirror_mode": {
    "name": "ipython",
    "version": 3
   },
   "file_extension": ".py",
   "mimetype": "text/x-python",
   "name": "python",
   "nbconvert_exporter": "python",
   "pygments_lexer": "ipython3",
   "version": "3.11.7"
  }
 },
 "nbformat": 4,
 "nbformat_minor": 5
}
